{
 "cells": [
  {
   "cell_type": "code",
   "execution_count": 5,
   "id": "7f38d8d9",
   "metadata": {},
   "outputs": [],
   "source": [
    "import ibm_db"
   ]
  },
  {
   "cell_type": "code",
   "execution_count": 6,
   "id": "b2e2a100",
   "metadata": {},
   "outputs": [],
   "source": [
    "dsn_driver = \"{IBM DB2 ODBC DRIVER}\"\n",
    "dsn_database = \"***\"            # e.g. \"BLUDB\"\n",
    "dsn_hostname = \"*****\"            # e.g.: \"dashdb-txn-sbox-yp-dal09-04.services.dal.bluemix.net\"\n",
    "dsn_port = \"50000\"                    # e.g. \"50000\" \n",
    "dsn_protocol = \"TCPIP\"            # i.e. \"TCPIP\"\n",
    "dsn_uid = \"*******\"                 # e.g. \"abc12345\"\n",
    "dsn_pwd = \"******\"                 # e.g. \"7dBZ3wWt9XN6$o0J\""
   ]
  },
  {
   "cell_type": "code",
   "execution_count": 7,
   "id": "620fccb1",
   "metadata": {},
   "outputs": [
    {
     "name": "stdout",
     "output_type": "stream",
     "text": [
      "Connected to database:  BLUDB as user:  jnj40704 on host:  dashdb-txn-sbox-yp-dal09-11.services.dal.bluemix.net\n"
     ]
    }
   ],
   "source": [
    "dsn = (\n",
    "    \"DRIVER={0};\"\n",
    "    \"DATABASE={1};\"\n",
    "    \"HOSTNAME={2};\"\n",
    "    \"PORT={3};\"\n",
    "    \"PROTOCOL={4};\"\n",
    "    \"UID={5};\"\n",
    "    \"PWD={6};\").format(dsn_driver, dsn_database, dsn_hostname, dsn_port, dsn_protocol, dsn_uid, dsn_pwd)\n",
    "\n",
    "try:\n",
    "    conn = ibm_db.connect(dsn, \"\", \"\")\n",
    "    print (\"Connected to database: \", dsn_database, \"as user: \", dsn_uid, \"on host: \", dsn_hostname)\n",
    "\n",
    "except:\n",
    "    print (\"Unable to connect: \", ibm_db.conn_errormsg() )\n"
   ]
  },
  {
   "cell_type": "code",
   "execution_count": 11,
   "id": "01060ce5",
   "metadata": {},
   "outputs": [
    {
     "ename": "Exception",
     "evalue": "[IBM][CLI Driver][DB2/LINUXX8664] SQL0204N  \"JNJ40704.INSTRUCTOR\" is an undefined name.  SQLSTATE=42704\r SQLCODE=-204",
     "output_type": "error",
     "traceback": [
      "\u001b[1;31m---------------------------------------------------------------------------\u001b[0m",
      "\u001b[1;31mException\u001b[0m                                 Traceback (most recent call last)",
      "\u001b[1;32m<ipython-input-11-3590f3bdc4a8>\u001b[0m in \u001b[0;36m<module>\u001b[1;34m\u001b[0m\n\u001b[0;32m      1\u001b[0m \u001b[0mdropQuery\u001b[0m \u001b[1;33m=\u001b[0m \u001b[1;34m\"drop table INSTRUCTOR\"\u001b[0m\u001b[1;33m\u001b[0m\u001b[1;33m\u001b[0m\u001b[0m\n\u001b[0;32m      2\u001b[0m \u001b[1;33m\u001b[0m\u001b[0m\n\u001b[1;32m----> 3\u001b[1;33m \u001b[0mdropStmt\u001b[0m \u001b[1;33m=\u001b[0m \u001b[0mibm_db\u001b[0m\u001b[1;33m.\u001b[0m\u001b[0mexec_immediate\u001b[0m\u001b[1;33m(\u001b[0m\u001b[0mconn\u001b[0m\u001b[1;33m,\u001b[0m \u001b[0mdropQuery\u001b[0m\u001b[1;33m)\u001b[0m\u001b[1;33m\u001b[0m\u001b[1;33m\u001b[0m\u001b[0m\n\u001b[0m",
      "\u001b[1;31mException\u001b[0m: [IBM][CLI Driver][DB2/LINUXX8664] SQL0204N  \"JNJ40704.INSTRUCTOR\" is an undefined name.  SQLSTATE=42704\r SQLCODE=-204"
     ]
    }
   ],
   "source": [
    "dropQuery = \"drop table INSTRUCTOR\"\n",
    "\n",
    "dropStmt = ibm_db.exec_immediate(conn, dropQuery)"
   ]
  },
  {
   "cell_type": "code",
   "execution_count": 17,
   "id": "921268bb",
   "metadata": {},
   "outputs": [
    {
     "ename": "Exception",
     "evalue": "[IBM][CLI Driver][DB2/LINUXX8664] SQL0601N  The name of the object to be created is identical to the existing name \"JNJ40704.INSTRUCTOR\" of type \"TABLE\".  SQLSTATE=42710\r SQLCODE=-601",
     "output_type": "error",
     "traceback": [
      "\u001b[1;31m---------------------------------------------------------------------------\u001b[0m",
      "\u001b[1;31mException\u001b[0m                                 Traceback (most recent call last)",
      "\u001b[1;32m<ipython-input-17-81556671c7d6>\u001b[0m in \u001b[0;36m<module>\u001b[1;34m\u001b[0m\n\u001b[0;32m      1\u001b[0m \u001b[0mcreat\u001b[0m\u001b[1;33m=\u001b[0m\u001b[1;34m\"create table INSTRUCTOR (ID INTEGER PRIMARY KEY NOT NULL, FNAME VARCHAR(20),LNAME VARCHAR(20), CITY VARCHAR(20),CCODE CHARACTER(2)) \"\u001b[0m\u001b[1;33m\u001b[0m\u001b[1;33m\u001b[0m\u001b[0m\n\u001b[1;32m----> 2\u001b[1;33m \u001b[0mcrestSmt\u001b[0m\u001b[1;33m=\u001b[0m\u001b[0mibm_db\u001b[0m\u001b[1;33m.\u001b[0m\u001b[0mexec_immediate\u001b[0m\u001b[1;33m(\u001b[0m\u001b[0mconn\u001b[0m\u001b[1;33m,\u001b[0m\u001b[0mcreat\u001b[0m\u001b[1;33m)\u001b[0m\u001b[1;33m\u001b[0m\u001b[1;33m\u001b[0m\u001b[0m\n\u001b[0m",
      "\u001b[1;31mException\u001b[0m: [IBM][CLI Driver][DB2/LINUXX8664] SQL0601N  The name of the object to be created is identical to the existing name \"JNJ40704.INSTRUCTOR\" of type \"TABLE\".  SQLSTATE=42710\r SQLCODE=-601"
     ]
    }
   ],
   "source": [
    "creat=\"create table INSTRUCTOR (ID INTEGER PRIMARY KEY NOT NULL, FNAME VARCHAR(20),LNAME VARCHAR(20), CITY VARCHAR(20),CCODE CHARACTER(2)) \"\n",
    "crestSmt=ibm_db.exec_immediate(conn,creat)"
   ]
  },
  {
   "cell_type": "code",
   "execution_count": 21,
   "id": "a91e97b7",
   "metadata": {},
   "outputs": [],
   "source": [
    "insert=\"insert into INSTRUCTOR values (2,'Raul','Chong','Markham','CA'),(3,'Hima','Vashudevan','Chicago','US')\"\n",
    "insertQuery=ibm_db.exec_immediate(conn,insert)"
   ]
  },
  {
   "cell_type": "code",
   "execution_count": 25,
   "id": "d22d7aab",
   "metadata": {},
   "outputs": [
    {
     "data": {
      "text/plain": [
       "{'ID': 1,\n",
       " 0: 1,\n",
       " 'FNAME': 'Rav',\n",
       " 1: 'Rav',\n",
       " 'LNAME': 'Ahuja',\n",
       " 2: 'Ahuja',\n",
       " 'CITY': 'Toronto',\n",
       " 3: 'Toronto',\n",
       " 'CCODE': 'CA',\n",
       " 4: 'CA'}"
      ]
     },
     "execution_count": 25,
     "metadata": {},
     "output_type": "execute_result"
    }
   ],
   "source": [
    "selectQuery= \"select* from INSTRUCTOR\"\n",
    "selectSmt= ibm_db.exec_immediate(conn,selectQuery)\n",
    "ibm_db.fetch_both(selectSmt)"
   ]
  },
  {
   "cell_type": "code",
   "execution_count": 24,
   "id": "ef7492f3",
   "metadata": {},
   "outputs": [
    {
     "data": {
      "text/plain": [
       "{'ID': 1,\n",
       " 0: 1,\n",
       " 'FNAME': 'Rav',\n",
       " 1: 'Rav',\n",
       " 'LNAME': 'Ahuja',\n",
       " 2: 'Ahuja',\n",
       " 'CITY': 'Toronto',\n",
       " 3: 'Toronto',\n",
       " 'CCODE': 'CA',\n",
       " 4: 'CA'}"
      ]
     },
     "execution_count": 24,
     "metadata": {},
     "output_type": "execute_result"
    }
   ],
   "source": [
    "selectQuery = \"select * from INSTRUCTOR\"\n",
    "\n",
    "#Execute the statement\n",
    "selectStmt = ibm_db.exec_immediate(conn, selectQuery)\n",
    "\n",
    "#Fetch the Dictionary (for the first row only)\n",
    "ibm_db.fetch_both(selectStmt)"
   ]
  },
  {
   "cell_type": "code",
   "execution_count": 26,
   "id": "b9f18e8b",
   "metadata": {},
   "outputs": [
    {
     "name": "stdout",
     "output_type": "stream",
     "text": [
      " ID: 2  FNAME: Raul\n",
      " ID: 3  FNAME: Hima\n"
     ]
    }
   ],
   "source": [
    "while ibm_db.fetch_row(selectStmt) != False:\n",
    "    print (\" ID:\",  ibm_db.result(selectStmt, 0), \" FNAME:\",  ibm_db.result(selectStmt, \"FNAME\"))"
   ]
  },
  {
   "cell_type": "code",
   "execution_count": 28,
   "id": "bc47fccb",
   "metadata": {},
   "outputs": [],
   "source": [
    "updateQuery=\"update INSTRUCTOR  Set  CITY='MOOSETOWN' where FNAME='Rav'\"\n",
    "updateStmt=ibm_db.exec_immediate(conn,updateQuery)"
   ]
  },
  {
   "cell_type": "code",
   "execution_count": 30,
   "id": "7caaebf0",
   "metadata": {},
   "outputs": [
    {
     "data": {
      "text/plain": [
       "{'ID': 1,\n",
       " 0: 1,\n",
       " 'FNAME': 'Rav',\n",
       " 1: 'Rav',\n",
       " 'LNAME': 'Ahuja',\n",
       " 2: 'Ahuja',\n",
       " 'CITY': 'MOOSETOWN',\n",
       " 3: 'MOOSETOWN',\n",
       " 'CCODE': 'CA',\n",
       " 4: 'CA'}"
      ]
     },
     "execution_count": 30,
     "metadata": {},
     "output_type": "execute_result"
    }
   ],
   "source": [
    "selectQuery=\"select * from INSTRUCTOR\"\n",
    "selectStmt=ibm_db.exec_immediate(conn,selectQuery)\n",
    "ibm_db.fetch_both(selectStmt)"
   ]
  },
  {
   "cell_type": "code",
   "execution_count": 48,
   "id": "58ab953b",
   "metadata": {},
   "outputs": [],
   "source": [
    "import pandas \n",
    "import ibm_db_dbi"
   ]
  },
  {
   "cell_type": "code",
   "execution_count": 49,
   "id": "a793b57c",
   "metadata": {},
   "outputs": [],
   "source": [
    "pcc=ibm_db_dbi.Connection(conn)\n"
   ]
  },
  {
   "cell_type": "code",
   "execution_count": 50,
   "id": "453cfc17",
   "metadata": {},
   "outputs": [],
   "source": [
    "selctQuery=\"select * from INSTRUCTOR\"\n",
    "pdf=pandas.read_sql(selectQuery,pcc)"
   ]
  },
  {
   "cell_type": "code",
   "execution_count": 52,
   "id": "166b7d76",
   "metadata": {},
   "outputs": [
    {
     "data": {
      "text/plain": [
       "'Ahuja'"
      ]
     },
     "execution_count": 52,
     "metadata": {},
     "output_type": "execute_result"
    }
   ],
   "source": [
    "pdf.LNAME[0]\n"
   ]
  },
  {
   "cell_type": "code",
   "execution_count": 53,
   "id": "c7b56c34",
   "metadata": {},
   "outputs": [
    {
     "data": {
      "text/html": [
       "<div>\n",
       "<style scoped>\n",
       "    .dataframe tbody tr th:only-of-type {\n",
       "        vertical-align: middle;\n",
       "    }\n",
       "\n",
       "    .dataframe tbody tr th {\n",
       "        vertical-align: top;\n",
       "    }\n",
       "\n",
       "    .dataframe thead th {\n",
       "        text-align: right;\n",
       "    }\n",
       "</style>\n",
       "<table border=\"1\" class=\"dataframe\">\n",
       "  <thead>\n",
       "    <tr style=\"text-align: right;\">\n",
       "      <th></th>\n",
       "      <th>ID</th>\n",
       "      <th>FNAME</th>\n",
       "      <th>LNAME</th>\n",
       "      <th>CITY</th>\n",
       "      <th>CCODE</th>\n",
       "    </tr>\n",
       "  </thead>\n",
       "  <tbody>\n",
       "    <tr>\n",
       "      <th>0</th>\n",
       "      <td>1</td>\n",
       "      <td>Rav</td>\n",
       "      <td>Ahuja</td>\n",
       "      <td>MOOSETOWN</td>\n",
       "      <td>CA</td>\n",
       "    </tr>\n",
       "    <tr>\n",
       "      <th>1</th>\n",
       "      <td>2</td>\n",
       "      <td>Raul</td>\n",
       "      <td>Chong</td>\n",
       "      <td>Markham</td>\n",
       "      <td>CA</td>\n",
       "    </tr>\n",
       "    <tr>\n",
       "      <th>2</th>\n",
       "      <td>3</td>\n",
       "      <td>Hima</td>\n",
       "      <td>Vashudevan</td>\n",
       "      <td>Chicago</td>\n",
       "      <td>US</td>\n",
       "    </tr>\n",
       "  </tbody>\n",
       "</table>\n",
       "</div>"
      ],
      "text/plain": [
       "   ID FNAME       LNAME       CITY CCODE\n",
       "0   1   Rav       Ahuja  MOOSETOWN    CA\n",
       "1   2  Raul       Chong    Markham    CA\n",
       "2   3  Hima  Vashudevan    Chicago    US"
      ]
     },
     "execution_count": 53,
     "metadata": {},
     "output_type": "execute_result"
    }
   ],
   "source": [
    "pdf"
   ]
  },
  {
   "cell_type": "code",
   "execution_count": 55,
   "id": "5d318f90",
   "metadata": {},
   "outputs": [
    {
     "data": {
      "text/plain": [
       "(3, 5)"
      ]
     },
     "execution_count": 55,
     "metadata": {},
     "output_type": "execute_result"
    }
   ],
   "source": [
    "pdf.shape\n"
   ]
  },
  {
   "cell_type": "code",
   "execution_count": 56,
   "id": "9b9dd542",
   "metadata": {},
   "outputs": [
    {
     "data": {
      "text/plain": [
       "True"
      ]
     },
     "execution_count": 56,
     "metadata": {},
     "output_type": "execute_result"
    }
   ],
   "source": [
    "ibm_db.close(conn)"
   ]
  },
  {
   "cell_type": "code",
   "execution_count": null,
   "id": "e63822d0",
   "metadata": {},
   "outputs": [],
   "source": []
  }
 ],
 "metadata": {
  "kernelspec": {
   "display_name": "Python 3",
   "language": "python",
   "name": "python3"
  },
  "language_info": {
   "codemirror_mode": {
    "name": "ipython",
    "version": 3
   },
   "file_extension": ".py",
   "mimetype": "text/x-python",
   "name": "python",
   "nbconvert_exporter": "python",
   "pygments_lexer": "ipython3",
   "version": "3.8.8"
  }
 },
 "nbformat": 4,
 "nbformat_minor": 5
}
